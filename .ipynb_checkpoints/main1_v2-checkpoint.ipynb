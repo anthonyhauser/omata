{
 "cells": [
  {
   "cell_type": "markdown",
   "id": "2ea607c8-a216-439f-8e53-401b0f9bb47c",
   "metadata": {},
   "source": [
    "Title"
   ]
  },
  {
   "cell_type": "code",
   "execution_count": 22,
   "id": "664f6037-b077-4d94-9640-edb81aafa0f8",
   "metadata": {},
   "outputs": [],
   "source": [
    "import sys\n",
    "import os\n",
    "import pandas as pd\n",
    "from data_utils import load"
   ]
  },
  {
   "cell_type": "code",
   "execution_count": 23,
   "id": "a6806f8c-154d-4fbb-9650-2155e9f0b253",
   "metadata": {},
   "outputs": [
    {
     "ename": "NameError",
     "evalue": "name 'openai' is not defined",
     "output_type": "error",
     "traceback": [
      "\u001b[1;31m---------------------------------------------------------------------------\u001b[0m",
      "\u001b[1;31mNameError\u001b[0m                                 Traceback (most recent call last)",
      "Cell \u001b[1;32mIn[23], line 4\u001b[0m\n\u001b[0;32m      1\u001b[0m \u001b[38;5;28;01mfrom\u001b[39;00m\u001b[38;5;250m \u001b[39m\u001b[38;5;21;01mopenai\u001b[39;00m\u001b[38;5;250m \u001b[39m\u001b[38;5;28;01mimport\u001b[39;00m OpenAI\n\u001b[0;32m      3\u001b[0m \u001b[38;5;66;03m# Initialize client with your API key\u001b[39;00m\n\u001b[1;32m----> 4\u001b[0m client \u001b[38;5;241m=\u001b[39m OpenAI(api_key\u001b[38;5;241m=\u001b[39mopenai\u001b[38;5;241m.\u001b[39mapi_key)\n\u001b[0;32m      6\u001b[0m \u001b[38;5;66;03m# Send a message to ChatGPT\u001b[39;00m\n\u001b[0;32m      7\u001b[0m response \u001b[38;5;241m=\u001b[39m client\u001b[38;5;241m.\u001b[39mchat\u001b[38;5;241m.\u001b[39mcompletions\u001b[38;5;241m.\u001b[39mcreate(\n\u001b[0;32m      8\u001b[0m     model\u001b[38;5;241m=\u001b[39m\u001b[38;5;124m\"\u001b[39m\u001b[38;5;124mgpt-3.5-turbo\u001b[39m\u001b[38;5;124m\"\u001b[39m,\n\u001b[0;32m      9\u001b[0m     messages\u001b[38;5;241m=\u001b[39m[\n\u001b[1;32m   (...)\u001b[0m\n\u001b[0;32m     12\u001b[0m     ]\n\u001b[0;32m     13\u001b[0m )\n",
      "\u001b[1;31mNameError\u001b[0m: name 'openai' is not defined"
     ]
    }
   ],
   "source": [
    "print(\"-\")\n"
   ]
  },
  {
   "cell_type": "code",
   "execution_count": 16,
   "id": "2702a97e-6ed2-4968-a081-c9f9323eec7b",
   "metadata": {},
   "outputs": [
    {
     "name": "stdout",
     "output_type": "stream",
     "text": [
      "-\n"
     ]
    }
   ],
   "source": [
    "from transformers import BlipProcessor, BlipForConditionalGeneration\n",
    "from PIL import Image\n",
    "import torch\n",
    "print(\"-\")"
   ]
  },
  {
   "cell_type": "code",
   "execution_count": 11,
   "id": "20625c56-549e-4832-8d77-d57b156d9146",
   "metadata": {},
   "outputs": [
    {
     "name": "stdout",
     "output_type": "stream",
     "text": [
      "Total RAM: 31.43 GB\n"
     ]
    }
   ],
   "source": [
    "import psutil\n",
    "\n",
    "# Total RAM in GB\n",
    "total_ram = psutil.virtual_memory().total / (1024**3)\n",
    "print(f\"Total RAM: {total_ram:.2f} GB\")"
   ]
  },
  {
   "cell_type": "code",
   "execution_count": 22,
   "id": "ae86113c-964e-4029-8989-64fffa93d6a9",
   "metadata": {},
   "outputs": [],
   "source": [
    "from transformers import BlipProcessor, BlipForConditionalGeneration\n",
    "\n",
    "processor = BlipProcessor.from_pretrained(\"Salesforce/blip-image-captioning-base\")\n",
    "model = BlipForConditionalGeneration.from_pretrained(\"Salesforce/blip-image-captioning-base\")"
   ]
  },
  {
   "cell_type": "code",
   "execution_count": null,
   "id": "61eca9b6-2772-423a-a945-3016a7af9927",
   "metadata": {},
   "outputs": [],
   "source": [
    "from transformers import BlipProcessor, BlipForConditionalGeneration\n",
    "\n",
    "models = [\n",
    "    \"Salesforce/blip-image-captioning-base\",\n",
    "    \"Salesforce/blip2-flan-t5-xl\",\n",
    "    \"Salesforce/blip2-opt-2.7b\"\n",
    "]\n",
    "\n",
    "for name in models:\n",
    "    try:\n",
    "        print(f\"Testing {name}...\")\n",
    "        processor = BlipProcessor.from_pretrained(name, local_files_only=True)\n",
    "        model = BlipForConditionalGeneration.from_pretrained(name, local_files_only=True)\n",
    "        print(f\" {name} loaded successfully.\\n\")\n",
    "    except Exception as e:\n",
    "        print(f\" {name} failed: {e}\\n\")"
   ]
  },
  {
   "cell_type": "code",
   "execution_count": null,
   "id": "297577f4-00c8-49b4-9493-c74f324418a7",
   "metadata": {},
   "outputs": [],
   "source": [
    "from transformers import Blip2Processor, Blip2ForConditionalGeneration\n",
    "from PIL import Image\n",
    "import torch\n",
    "\n",
    "# 1️⃣ Load processor and model\n",
    "processor = Blip2Processor.from_pretrained(\"Salesforce/blip2-flan-t5-xl\")\n",
    "model = Blip2ForConditionalGeneration.from_pretrained(\"Salesforce/blip2-flan-t5-xl\")\n",
    "\n",
    "# Select device (CPU in this case)\n",
    "device = \"cpu\"\n",
    "model.to(device)\n",
    "\n",
    "# Load an image\n",
    "img_path = \"data/Images_test-20240424T090736Z-001/Images_test/1.jpg\"\n",
    "image = Image.open(img_path).convert(\"RGB\")\n",
    "\n",
    "# Prepare inputs\n",
    "prompt = \"Identify tobacco brands in this picture.\"\n",
    "inputs = processor(images=image, text=prompt, return_tensors=\"pt\").to(device)\n",
    "\n",
    "# Generate caption\n",
    "with torch.no_grad():\n",
    "    outputs = model.generate(**inputs, max_new_tokens=50)\n",
    "\n",
    "# Decode and print caption\n",
    "caption = processor.decode(outputs[0], skip_special_tokens=True)\n",
    "print(\"Generated caption:\", caption)"
   ]
  },
  {
   "cell_type": "code",
   "execution_count": null,
   "id": "c8b93193-8dfd-4d73-8895-55a1cc55f10f",
   "metadata": {},
   "outputs": [],
   "source": [
    "from transformers import Blip2Processor, Blip2ForConditionalGeneration\n",
    "from PIL import Image\n",
    "import torch\n",
    "\n",
    "# Load BLIP-2 small (faster, less memory)\n",
    "processor = Blip2Processor.from_pretrained(\"Salesforce/blip2-flan-t5-xl\")\n",
    "model = Blip2ForConditionalGeneration.from_pretrained(\"Salesforce/blip2-flan-t5-xl\")\n",
    "\n",
    "device = \"cuda\" if torch.cuda.is_available() else \"cpu\"\n",
    "model.to(device)\n",
    "\n",
    "# Load an image\n",
    "img_path = \"data/Images_test-20240424T090736Z-001/Images_test/2.jpg\"\n",
    "image = Image.open(img_path).convert(\"RGB\")\n",
    "\n",
    "# Generate caption\n",
    "prompt = \"Describe any tobacco products in this image.\"\n",
    "inputs = processor(images=image, text=prompt, return_tensors=\"pt\").to(device)\n",
    "\n",
    "with torch.no_grad():\n",
    "    outputs = model.generate(**inputs)\n",
    "\n",
    "caption = processor.decode(outputs[0], skip_special_tokens=True)\n",
    "print(\"Caption:\", caption)"
   ]
  },
  {
   "cell_type": "code",
   "execution_count": null,
   "id": "a2e22940-b67a-495e-a9ca-7a68a3729fec",
   "metadata": {},
   "outputs": [],
   "source": [
    "import torch\n",
    "from PIL import Image\n",
    "from transformers import AutoProcessor, AutoModelForZeroShotObjectDetection, infer_device\n",
    "\n",
    "model_id = \"IDEA-Research/grounding-dino-tiny\"\n",
    "device = infer_device()\n",
    "\n",
    "processor = AutoProcessor.from_pretrained(model_id)\n",
    "model = AutoModelForZeroShotObjectDetection.from_pretrained(model_id).to(device)\n",
    "\n",
    "# Load an image\n",
    "img_path = \"data/Images_test-20240424T090736Z-001/Images_test/2.jpg\"\n",
    "image = Image.open(img_path).convert(\"RGB\")\n",
    "text_labels = [[\"a cat\", \"a remote control\"]]\n",
    "\n",
    "inputs = processor(images=image, text=text_labels, return_tensors=\"pt\").to(model.device)\n",
    "with torch.no_grad():\n",
    "    outputs = model(**inputs)"
   ]
  },
  {
   "cell_type": "code",
   "execution_count": null,
   "id": "084a29e1-de0f-4f17-98cf-abcca7c2d2bd",
   "metadata": {},
   "outputs": [],
   "source": [
    "from transformers import AutoImageProcessor, DetaForObjectDetection\n",
    "from PIL import Image\n",
    "import requests\n",
    "\n",
    "img_path = \"data/Images_test-20240424T090736Z-001/Images_test/2.jpg\"\n",
    "image = Image.open(img_path).convert(\"RGB\")\n",
    "\n",
    "image_processor = AutoImageProcessor.from_pretrained(\"jozhang97/deta-swin-large\")\n",
    "model = DetaForObjectDetection.from_pretrained(\"jozhang97/deta-swin-large\")\n",
    "\n",
    "inputs = image_processor(images=image, return_tensors=\"pt\")\n",
    "outputs = model(**inputs)\n",
    "\n",
    "# convert outputs (bounding boxes and class logits) to Pascal VOC format (xmin, ymin, xmax, ymax)\n",
    "target_sizes = torch.tensor([image.size[::-1]])\n",
    "results = image_processor.post_process_object_detection(outputs, threshold=0.2, target_sizes=target_sizes)[\n",
    "    0\n",
    "]\n",
    "for score, label, box in zip(results[\"scores\"], results[\"labels\"], results[\"boxes\"]):\n",
    "    box = [round(i, 2) for i in box.tolist()]\n",
    "    print(\n",
    "        f\"Detected {model.config.id2label[label.item()]} with confidence \"\n",
    "        f\"{round(score.item(), 3)} at location {box}\"\n",
    "    )"
   ]
  },
  {
   "cell_type": "code",
   "execution_count": null,
   "id": "1c1e492e-2014-4317-bf09-d7638ece58a8",
   "metadata": {},
   "outputs": [],
   "source": [
    "from transformers import pipeline\n",
    "from PIL import Image\n",
    "import requests\n",
    "\n",
    "# Load the zero-shot object detection pipeline with the specified model\n",
    "detector = pipeline(\"zero-shot-object-detection\", model=\"iSEE-Laboratory/llmdet_large\")\n",
    "\n",
    "# Define the candidate classes (tobacco-related items)\n",
    "candidate_classes = [\"cigarette\", \"vape\", \"lighter\", \"cigar\", \"tobacco pouch\",\"smoke\"]\n",
    "\n",
    "# Load an example image\n",
    "img_path = \"data/Images_test-20240424T090736Z-001/Images_test/2.jpg\"\n",
    "image = Image.open(img_path).convert(\"RGB\")\n",
    "\n",
    "# Perform zero-shot object detection\n",
    "results = detector(image, candidate_labels=candidate_classes, threshold=0.5)\n",
    "\n",
    "print(\"Detected objects:\")\n",
    "for result in results:\n",
    "    print(f\"Label: {result['label']}, Score: {result['score']:.3f}\")"
   ]
  },
  {
   "cell_type": "code",
   "execution_count": null,
   "id": "713cb7d7-ff1e-408e-bc9f-3fed705e7510",
   "metadata": {},
   "outputs": [],
   "source": [
    "print(\"Detected objects:\")\n",
    "print(results)\n",
    "for result in results:\n",
    "    print(f\"Label: {result['label']}, Score: {result['score']:.3f}\")\n",
    "print(image.size) "
   ]
  }
 ],
 "metadata": {
  "kernelspec": {
   "display_name": "Python [conda env:base] *",
   "language": "python",
   "name": "conda-base-py"
  },
  "language_info": {
   "codemirror_mode": {
    "name": "ipython",
    "version": 3
   },
   "file_extension": ".py",
   "mimetype": "text/x-python",
   "name": "python",
   "nbconvert_exporter": "python",
   "pygments_lexer": "ipython3",
   "version": "3.13.5"
  }
 },
 "nbformat": 4,
 "nbformat_minor": 5
}
