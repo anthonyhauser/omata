





from PIL import Image
import matplotlib.pyplot as plt

#load image
img_path = "data/Images_test-20240424T090736Z-001/Images_test/2.jpg"
image = Image.open(img_path).convert("RGB")

#display
plt.imshow(image)
plt.axis("off")  # remove axis ticks
plt.show()





import pandas as pd
df = pd.read_csv("data/results.csv", sep='|')

df.loc[:, ["platform","account","product_type","brand_name","marketing_strategy","sentiment","message_type","message_content","characteristics_other"]].head(5).style.set_table_styles(
    [{'selector': 'th', 'props': [('background-color', '#f0f0f0'),
                                 ('text-align', 'left')]}]
).set_properties(**{'text-align': 'left'})





import sys
import os
import pandas as pd
from data_utils import load






